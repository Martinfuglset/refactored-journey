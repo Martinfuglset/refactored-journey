{
  "nbformat": 4,
  "nbformat_minor": 0,
  "metadata": {
    "colab": {
      "provenance": [],
      "mount_file_id": "11ZrUokJzlwKGHIP56IXxbYpDxKX1AZAJ",
      "authorship_tag": "ABX9TyPU+u4M3GZm+RsvZaLI72aR",
      "include_colab_link": true
    },
    "kernelspec": {
      "name": "python3",
      "display_name": "Python 3"
    },
    "language_info": {
      "name": "python"
    }
  },
  "cells": [
    {
      "cell_type": "markdown",
      "metadata": {
        "id": "view-in-github",
        "colab_type": "text"
      },
      "source": [
        "<a href=\"https://colab.research.google.com/github/Martinfuglset/refactored-journey/blob/main/Revisjon_reformat.ipynb\" target=\"_parent\"><img src=\"https://colab.research.google.com/assets/colab-badge.svg\" alt=\"Open In Colab\"/></a>"
      ]
    },
    {
      "cell_type": "code",
      "source": [
        "#@title Setup\n",
        "from pydrive.auth import GoogleAuth\n",
        "from pydrive.drive import GoogleDrive\n",
        "from google.colab import auth, drive\n",
        "from google.auth import default\n",
        "from oauth2client.client import GoogleCredentials\n",
        "from openpyxl import Workbook, load_workbook\n",
        "import pandas as pd\n",
        "import gspread\n",
        "import numpy as np\n",
        "from datetime import datetime\n",
        "\n",
        "auth.authenticate_user()\n",
        "gauth = GoogleAuth()\n",
        "gauth.credentials = GoogleCredentials.get_application_default()\n",
        "drive = GoogleDrive(gauth)\n",
        "creds, _ = default()\n",
        "gc = gspread.authorize(creds)\n",
        "\n",
        "folder_name = 'Revisjon_excel'\n",
        "\n",
        "counter = 0\n",
        "while counter == 0:\n",
        "  string = \"\"\n",
        "  listed = drive.ListFile(({'q': f\"title contains '{folder_name}'\"})).GetList()\n",
        "  for file in listed:\n",
        "    string += 'title {}, id {}'.format(file['title'], file['id'])\n",
        "    counter = 1\n",
        "  if not string:\n",
        "    folder_metadata = {\n",
        "      'title' : folder_name,\n",
        "      'mimeType' : 'application/vnd.google-apps.folder'\n",
        "      }\n",
        "    folder = drive.CreateFile(folder_metadata)\n",
        "    folder.Upload()\n",
        "\n",
        "fid = listed[0]['id']"
      ],
      "metadata": {
        "id": "sfQDIboPrhsn",
        "cellView": "form"
      },
      "execution_count": 1,
      "outputs": []
    },
    {
      "cell_type": "code",
      "source": [
        "#@title Spreadsheet\n",
        "\n",
        "#Access / create sheet\n",
        "sheet_name = 'new_wb' #@param {type:\"string\"}\n",
        "spreadsheet = gc.open(sheet_name)\n",
        "count_sheets = len(spreadsheet.worksheets())\n",
        "if count_sheets == 1:\n",
        "  worksheet = spreadsheet.add_worksheet(title=f\"{spreadsheet.sheet1.title} (Reformatted)\", rows=\"1000\", cols=\"12\")\n",
        "else:\n",
        "  worksheet = spreadsheet.worksheet(f\"{spreadsheet.sheet1.title} (Reformatted)\")\n",
        "\n",
        "#Sheet URL\n",
        "sheet_url = \"https://docs.google.com/spreadsheets/d/\" + spreadsheet.id\n",
        "disp_url = True #@param {type:\"boolean\"}\n",
        "if disp_url == True:\n",
        "  print(\"Sheet URL: \" + sheet_url)\n",
        "\n",
        "col = ['Bilagsnr','Bilagsdato','Mva-beløp','Bokført beløp','Tekst','År','Periode','Bilagsart','Debet bokført beløp', 'Kredit bokført beløp']\n",
        "\n",
        "rows = spreadsheet.sheet1.get_all_values()\n",
        "rows_df = pd.DataFrame(rows)\n",
        "indx = rows_df[rows_df[0] == \"Hovedbokskonto\"].index\n",
        "\n",
        "konto = [rows_df[0][i+2] for i in indx]\n",
        "navn = [rows_df[1][i+2] for i in indx]\n",
        "\n",
        "unsort_col = rows_df.iloc[5]\n",
        "\n",
        "unsort_index = []\n",
        "for i in enumerate(unsort_col):\n",
        "  try:\n",
        "    unsort_index.append(col.index(i[1]))\n",
        "  except:\n",
        "    0\n",
        "\n",
        "starts = []\n",
        "for i in indx:\n",
        "  starts.append(i+6)\n",
        "\n",
        "ends = []\n",
        "for i in enumerate(indx[:-1]):\n",
        "  ends.append(indx[i[0]+1]-2)\n",
        "ends.append(len(rows)-1)\n",
        "\n",
        "bars = []\n",
        "for i in enumerate(indx):\n",
        "  bars.append(rows[starts[i[0]]:ends[i[0]]+1])\n",
        "\n",
        "df = pd.DataFrame(columns=unsort_col)\n",
        "\n",
        "konto_r = []\n",
        "navn_r = []\n",
        "\n",
        "for i in enumerate(bars):\n",
        "  new = pd.DataFrame(data=bars[i[0]], columns=unsort_col)\n",
        "  df = pd.concat([df,new])\n",
        "  konto_r.append([konto[i[0]]]*len(new))\n",
        "  navn_r.append([navn[i[0]]]*len(new))\n",
        "\n",
        "konto = [item for sublist in konto_r for item in sublist]\n",
        "navn = [item for sublist in navn_r for item in sublist]\n",
        "\n",
        "df = df.reindex(columns=col)\n",
        "df.insert(0,\"Navn\",navn)\n",
        "df.insert(0,\"Kontonr\",konto)\n",
        "\n",
        "df['Kontonr'] = df['Kontonr'].astype(int)\n",
        "df['Bilagsnr'] = df['Bilagsnr'].astype(int)\n",
        "df['Mva-beløp'] = df['Mva-beløp'].astype(float)\n",
        "df['Bokført beløp'] = df['Bokført beløp'].astype(float)\n",
        "df['År'] = df['År'].astype(int)\n",
        "df['Periode'] = df['Periode'].astype(int)\n",
        "df['Bilagsart'] = df['Bilagsart'].astype(int)\n",
        "\n",
        "\n",
        "# con_date = []\n",
        "# for i in df['Bilagsdato']:\n",
        "#   dl = i.split(\"/\")\n",
        "#   if len(dl)>1:\n",
        "#     con_date.append(datetime(int(dl[2]), int(dl[0]), int(dl[1])))\n",
        "#   else:\n",
        "#     i\n",
        "\n",
        "# df['Bilagsdato'] = pd.DataFrame(con_date)\n",
        "\n",
        "\n",
        "df['Debet bokført beløp'] = df['Bokført beløp'].where(df['Bokført beløp'] > 0, 0)\n",
        "df['Kredit bokført beløp'] = df['Bokført beløp'].where(df['Bokført beløp'] < 0, 0)\n",
        "\n",
        "df = df[df['Bilagsnr'] != 0]\n",
        "\n",
        "worksheet.clear()\n",
        "worksheet.append_row(df.columns.tolist())\n",
        "worksheet.update([df.columns.values.tolist()] + df.values.tolist())\n",
        "\n",
        "worksheet.format(\"A1:L1\", {\n",
        "    \"textFormat\": {\n",
        "      \"bold\": True\n",
        "    }\n",
        "})\n"
      ],
      "metadata": {
        "id": "FGdH7_Uy_743",
        "colab": {
          "base_uri": "https://localhost:8080/"
        },
        "outputId": "b097e8ba-23b3-4f49-970a-22b1c2c1547c"
      },
      "execution_count": 2,
      "outputs": [
        {
          "output_type": "stream",
          "name": "stdout",
          "text": [
            "Sheet URL: https://docs.google.com/spreadsheets/d/1m91GRktQeerlSOxCxWA5yebaIuUEf-UEBjVMdXj-arU\n"
          ]
        },
        {
          "output_type": "execute_result",
          "data": {
            "text/plain": [
              "{'spreadsheetId': '1m91GRktQeerlSOxCxWA5yebaIuUEf-UEBjVMdXj-arU',\n",
              " 'replies': [{}]}"
            ]
          },
          "metadata": {},
          "execution_count": 2
        }
      ]
    }
  ]
}